{
  "cells": [
    {
      "cell_type": "code",
      "source": [
        "!pip install transformers language_tool_python\n"
      ],
      "metadata": {
        "colab": {
          "base_uri": "https://localhost:8080/"
        },
        "id": "CAkztvKvWG7U",
        "outputId": "023e6cbb-749d-4168-c71f-9ec9bbf40700"
      },
      "execution_count": null,
      "outputs": [
        {
          "output_type": "stream",
          "name": "stdout",
          "text": [
            "Requirement already satisfied: transformers in /usr/local/lib/python3.10/dist-packages (4.35.2)\n",
            "Requirement already satisfied: language_tool_python in /usr/local/lib/python3.10/dist-packages (2.7.1)\n",
            "Requirement already satisfied: filelock in /usr/local/lib/python3.10/dist-packages (from transformers) (3.13.1)\n",
            "Requirement already satisfied: huggingface-hub<1.0,>=0.16.4 in /usr/local/lib/python3.10/dist-packages (from transformers) (0.20.2)\n",
            "Requirement already satisfied: numpy>=1.17 in /usr/local/lib/python3.10/dist-packages (from transformers) (1.23.5)\n",
            "Requirement already satisfied: packaging>=20.0 in /usr/local/lib/python3.10/dist-packages (from transformers) (23.2)\n",
            "Requirement already satisfied: pyyaml>=5.1 in /usr/local/lib/python3.10/dist-packages (from transformers) (6.0.1)\n",
            "Requirement already satisfied: regex!=2019.12.17 in /usr/local/lib/python3.10/dist-packages (from transformers) (2023.6.3)\n",
            "Requirement already satisfied: requests in /usr/local/lib/python3.10/dist-packages (from transformers) (2.31.0)\n",
            "Requirement already satisfied: tokenizers<0.19,>=0.14 in /usr/local/lib/python3.10/dist-packages (from transformers) (0.15.0)\n",
            "Requirement already satisfied: safetensors>=0.3.1 in /usr/local/lib/python3.10/dist-packages (from transformers) (0.4.1)\n",
            "Requirement already satisfied: tqdm>=4.27 in /usr/local/lib/python3.10/dist-packages (from transformers) (4.66.1)\n",
            "Requirement already satisfied: fsspec>=2023.5.0 in /usr/local/lib/python3.10/dist-packages (from huggingface-hub<1.0,>=0.16.4->transformers) (2023.6.0)\n",
            "Requirement already satisfied: typing-extensions>=3.7.4.3 in /usr/local/lib/python3.10/dist-packages (from huggingface-hub<1.0,>=0.16.4->transformers) (4.5.0)\n",
            "Requirement already satisfied: charset-normalizer<4,>=2 in /usr/local/lib/python3.10/dist-packages (from requests->transformers) (3.3.2)\n",
            "Requirement already satisfied: idna<4,>=2.5 in /usr/local/lib/python3.10/dist-packages (from requests->transformers) (3.6)\n",
            "Requirement already satisfied: urllib3<3,>=1.21.1 in /usr/local/lib/python3.10/dist-packages (from requests->transformers) (2.0.7)\n",
            "Requirement already satisfied: certifi>=2017.4.17 in /usr/local/lib/python3.10/dist-packages (from requests->transformers) (2023.11.17)\n"
          ]
        }
      ]
    },
    {
      "cell_type": "code",
      "source": [
        "!pip install python-telegram-bot"
      ],
      "metadata": {
        "colab": {
          "base_uri": "https://localhost:8080/"
        },
        "id": "k4THcTMLvapM",
        "outputId": "625e07b0-3a18-43d6-9550-8f1d3350c209"
      },
      "execution_count": null,
      "outputs": [
        {
          "output_type": "stream",
          "name": "stdout",
          "text": [
            "Collecting python-telegram-bot\n",
            "  Downloading python_telegram_bot-20.7-py3-none-any.whl.metadata (15 kB)\n",
            "Collecting httpx~=0.25.2 (from python-telegram-bot)\n",
            "  Downloading httpx-0.25.2-py3-none-any.whl.metadata (6.9 kB)\n",
            "Requirement already satisfied: anyio in /usr/local/lib/python3.10/dist-packages (from httpx~=0.25.2->python-telegram-bot) (3.7.1)\n",
            "Requirement already satisfied: certifi in /usr/local/lib/python3.10/dist-packages (from httpx~=0.25.2->python-telegram-bot) (2023.11.17)\n",
            "Collecting httpcore==1.* (from httpx~=0.25.2->python-telegram-bot)\n",
            "  Downloading httpcore-1.0.2-py3-none-any.whl.metadata (20 kB)\n",
            "Requirement already satisfied: idna in /usr/local/lib/python3.10/dist-packages (from httpx~=0.25.2->python-telegram-bot) (3.6)\n",
            "Requirement already satisfied: sniffio in /usr/local/lib/python3.10/dist-packages (from httpx~=0.25.2->python-telegram-bot) (1.3.0)\n",
            "Collecting h11<0.15,>=0.13 (from httpcore==1.*->httpx~=0.25.2->python-telegram-bot)\n",
            "  Downloading h11-0.14.0-py3-none-any.whl (58 kB)\n",
            "\u001b[2K     \u001b[90m━━━━━━━━━━━━━━━━━━━━━━━━━━━━━━━━━━━━━━━━\u001b[0m \u001b[32m58.3/58.3 kB\u001b[0m \u001b[31m1.2 MB/s\u001b[0m eta \u001b[36m0:00:00\u001b[0m\n",
            "\u001b[?25hRequirement already satisfied: exceptiongroup in /usr/local/lib/python3.10/dist-packages (from anyio->httpx~=0.25.2->python-telegram-bot) (1.2.0)\n",
            "Downloading python_telegram_bot-20.7-py3-none-any.whl (552 kB)\n",
            "\u001b[2K   \u001b[90m━━━━━━━━━━━━━━━━━━━━━━━━━━━━━━━━━━━━━━━━\u001b[0m \u001b[32m552.6/552.6 kB\u001b[0m \u001b[31m8.1 MB/s\u001b[0m eta \u001b[36m0:00:00\u001b[0m\n",
            "\u001b[?25hDownloading httpx-0.25.2-py3-none-any.whl (74 kB)\n",
            "\u001b[2K   \u001b[90m━━━━━━━━━━━━━━━━━━━━━━━━━━━━━━━━━━━━━━━━\u001b[0m \u001b[32m75.0/75.0 kB\u001b[0m \u001b[31m6.9 MB/s\u001b[0m eta \u001b[36m0:00:00\u001b[0m\n",
            "\u001b[?25hDownloading httpcore-1.0.2-py3-none-any.whl (76 kB)\n",
            "\u001b[2K   \u001b[90m━━━━━━━━━━━━━━━━━━━━━━━━━━━━━━━━━━━━━━━━\u001b[0m \u001b[32m76.9/76.9 kB\u001b[0m \u001b[31m7.0 MB/s\u001b[0m eta \u001b[36m0:00:00\u001b[0m\n",
            "\u001b[?25hInstalling collected packages: h11, httpcore, httpx, python-telegram-bot\n",
            "Successfully installed h11-0.14.0 httpcore-1.0.2 httpx-0.25.2 python-telegram-bot-20.7\n",
            "\u001b[33mWARNING: Running pip as the 'root' user can result in broken permissions and conflicting behaviour with the system package manager. It is recommended to use a virtual environment instead: https://pip.pypa.io/warnings/venv\u001b[0m\u001b[33m\n",
            "\u001b[0m"
          ]
        }
      ]
    },
    {
      "cell_type": "code",
      "execution_count": null,
      "metadata": {
        "id": "Dr1g5nj_Uwpf"
      },
      "outputs": [],
      "source": [
        "import pandas as pd\n",
        "from transformers import pipeline\n",
        "\n",
        "classifier = pipeline(\"sentiment-analysis\", model='/content/drive/MyDrive/model')"
      ]
    },
    {
      "cell_type": "code",
      "source": [
        "from google.colab import drive\n",
        "drive.mount('/content/drive')"
      ],
      "metadata": {
        "colab": {
          "base_uri": "https://localhost:8080/"
        },
        "id": "qFUl2SPUWcE1",
        "outputId": "0f5537ec-159c-416f-ed93-8880473fadbe"
      },
      "execution_count": null,
      "outputs": [
        {
          "output_type": "stream",
          "name": "stdout",
          "text": [
            "Drive already mounted at /content/drive; to attempt to forcibly remount, call drive.mount(\"/content/drive\", force_remount=True).\n"
          ]
        }
      ]
    },
    {
      "cell_type": "code",
      "execution_count": null,
      "metadata": {
        "id": "olHMHxJQUwpk"
      },
      "outputs": [],
      "source": [
        "title = 'Влияние государства на личную жизнь граждан, на их убеждения и верования.'\n",
        "text = '''Размышляя над данным вопросом, автор утверждает, что «…внутренние убеждения человека, любовь, вера в Бога не создаются приказами». По его мнению, подобные указы могут вызвать в человеке лицемерие или протест.\n",
        "С точки зрения И.А. Ильина, государство не может влиять на убеждения граждан, потому что нельзя ни полюбить, ни поверить во что-то по распоряжению «сверху».\n",
        "Я согласна с позицией автора и считаю, что человек сам решает, во что ему верить, кого любить, а влияние государства на его убеждения могут «вынудить в ответ только внешнее, лицемерное подчинение и лицемерную \"любовь\" к навязываемым ценностям».\n",
        "Вспомним роман Е. Замятина «Мы», в котором государство подчинило себе каждого человека-нумера, отняло у своих граждан возможность интеллектуального и художественного творчества, заменив его Единой государственной наукой, механической музыкой и государственной поэзией. Сведя любовь к чистой физиологии, оно лишило человека личных привязанностей, чувства родства, ибо всякие связи, кроме связи с Единым государством, преступны, тем самым государство сделало людей несчастными и беззащитными перед верховной властью.\n",
        "В повести А. И. Солженицына «Один день Ивана Денисовича» среди всех заключенных выделяется Алешка-баптист, попавший в заключение из-за своей веры. Но юноша не изменил своим убеждениям, не потерял надежды; запрет государства не повлиял на него, а наоборот, в Гулаге Алешина вера только укрепилась и стала сильнее.\n",
        "Могу сделать вывод, что никакая верховная власть, никакое государство не сможет повлиять на убеждения и верования человека.\n",
        "\n",
        "'''\n",
        "title1 = 'Зачем людям нужна вера в успех'\n",
        "text1 = '''В данном тексте автор рассуждает о том, что некоторые из нас «бездарно и бездумно» относятся «к этому прекрасному чуду» под названием жизнь. Легкомысленным лихачам, не дорожащим каждым прожитым днем, Н.Михайлов противопоставляет жизнь калеки от рождения Григория Журавлёва, который, не имея ни рук, ни ног, смог все же найти свое место в обществе. Он рисовал иконы, затем расписывал церковь. Это доставляло порой физические страдания, но Григорий Журавлёв не сдавался и добивался поставленной цели, выполняя «свое предназначение» на земле.\n",
        " Позицию публициста определить не сложно: многие из нас не понимают огромной ценности жизни. Вот почему так легко растрачивают ее по пустякам.\n",
        " Я полностью разделяю точку зрения автора. Действительно, люди часто разменивают жизнь на пустые дела, легкомысленные и опасные затеи, не осознают огромную ценность  дарованного им чуда. Но есть абсолютно удивительные личности, которые не хотят прожить жизнь напрасно. Об этом много говорят в прессе, пишут в Интернете.\n",
        "Знает, что такое жизнь и как она дорога, безногий паралимпиец, Алексей Чувашов. Оценивая жизнь как борьбу, этот несломленный человек, боролся с первых минут после страшной операции по ампутации ног и добился своего, он не только участвовал в паралимпийских играх, но и на церемонии закрытия паралимпиады поднялся по канату на глазах у многотысячной публики. Вот момент, доказавший, что если человек хочет жить полноценно, то для него «невозможное – возможно».\n",
        "В Интернете, на сайте «Петербургский дневник», прочитал статью о Юлии Самойловой, которая, несмотря на тяжелый недуг ( в детстве ей неудачно сделали прививку от полиомиелита, и она осталась инвалидом), поет с детства, не теряет оптимизма и даже создала  в родном городе собственную группу. Юлия решила попробовать свои силы в телевизионном проекте «Фактор А» и заняла там второе место, после чего начала активно гастролировать по стране с концертами. На закрытии паралимпиады девушка исполнила для зрителей прекрасную песню.\n",
        " Делая вывод, хочу сказать, что легкомысленно относится к собственной жизни те, кто не познали горя и страданий.\n",
        "'''"
      ]
    },
    {
      "cell_type": "code",
      "execution_count": null,
      "metadata": {
        "id": "Pa7WmakMUwpm",
        "outputId": "4aed021f-385a-42c7-eda1-778b7a1bb825",
        "colab": {
          "base_uri": "https://localhost:8080/",
          "height": 35
        }
      },
      "outputs": [
        {
          "output_type": "execute_result",
          "data": {
            "text/plain": [
              "'LABEL_1'"
            ],
            "application/vnd.google.colaboratory.intrinsic+json": {
              "type": "string"
            }
          },
          "metadata": {},
          "execution_count": 24
        }
      ],
      "source": [
        "result = classifier(text)\n",
        "result[0]['label']"
      ]
    },
    {
      "cell_type": "code",
      "execution_count": null,
      "metadata": {
        "id": "xxCVHA-AUwpo"
      },
      "outputs": [],
      "source": [
        "def compare(title, text):\n",
        "    full_text = '\\n'.join([title, text])\n",
        "    result = classifier(full_text)\n",
        "    if result[0]['label'] == 'LABEL_1':\n",
        "        return 'Совпадение текста с темой'\n",
        "    elif result[0]['label'] == 'LABEL_0':\n",
        "        return 'Нет совпадения текста с темой'\n",
        "    else:\n",
        "        return 'Ошибка, попробуйте ещё раз'"
      ]
    },
    {
      "cell_type": "code",
      "execution_count": null,
      "metadata": {
        "id": "q_pEWPKIUwpp",
        "outputId": "2972d7c9-6ee7-41ae-c9cf-27191b00d7b2",
        "colab": {
          "base_uri": "https://localhost:8080/",
          "height": 35
        }
      },
      "outputs": [
        {
          "output_type": "execute_result",
          "data": {
            "text/plain": [
              "'Нет совпадения текста с темой'"
            ],
            "application/vnd.google.colaboratory.intrinsic+json": {
              "type": "string"
            }
          },
          "metadata": {},
          "execution_count": 26
        }
      ],
      "source": [
        "compare(title1, text1)"
      ]
    },
    {
      "cell_type": "code",
      "execution_count": null,
      "metadata": {
        "id": "WRl3_ZAZUwpp",
        "colab": {
          "base_uri": "https://localhost:8080/",
          "height": 1000
        },
        "outputId": "ec14d3f7-bab7-4778-b495-cff85685c795"
      },
      "outputs": [
        {
          "output_type": "stream",
          "name": "stdout",
          "text": [
            "Введите тему текста: сч\n",
            "Введите название файла с текстом: свы\n",
            "Файл не найден. Укажите правильный путь к файлу.\n",
            "Введите тему текста: вап\n",
            "Введите название файла с текстом: /content/Чему_учит_дерево_человека.txt\n",
            "НЕТ СОВПАДЕНИЯ ТЕКСТА С ТЕМОЙ\n",
            "\n",
            "-------------------------------------\n",
            "\n",
            "Ошибка: WHITESPACE_RULE\n",
            "Сообщение: Повтор пробела\n",
            "Предложение: ...споминая свое детство, рассказывает, как  любил деревья, растущие в их небольшом с...\n",
            "Предложенные исправления: [' ']\n",
            "Ошибка: Ne_narech2\n",
            "Сообщение: Обычно пишется слитно с «не», отсутствует противопоставление: «несложно».\n",
            "Предложение: ... небесам.  Авторскую позицию определить не сложно: «Миролюбивая мощь дерева учит нас добр...\n",
            "Предложенные исправления: ['несложно']\n",
            "Ошибка: WHITESPACE_RULE\n",
            "Сообщение: Повтор пробела\n",
            "Предложение: ...аши предки в древности заметили: у людей  и деревьев есть какое-то родство в харак...\n",
            "Предложенные исправления: [' ']\n",
            "Ошибка: MORFOLOGIK_RULE_RU_RU\n",
            "Сообщение: Возможно найдена орфографическая ошибка.\n",
            "Предложение: ...уществует аналог, прикованный корнями к матушке-земле, влюбленно взирающий на людей, пережива...\n",
            "Предложенные исправления: ['матушка-Земля']\n",
            "Ошибка: COMMA_PARENTHESIS_WHITESPACE\n",
            "Сообщение: Не ставьте пробел после открывающейся скобки.\n",
            "Предложение: ...нязя Андрея Болконского со старым дубом ( роман Л.Н. Толстого «Война и мир»). Дваж...\n",
            "Предложенные исправления: ['(']\n",
            "Ошибка: COMMA_PARENTHESIS_WHITESPACE\n",
            "Сообщение: Не ставьте пробел у символа кавычек.\n",
            "Предложение: ...заставило сделать два важных вывода, что « жизнь не кончена в 31 год...\" и жизнь до...\n",
            "Предложенные исправления: ['« ', ' «']\n",
            "Ошибка: COMMA_PARENTHESIS_WHITESPACE\n",
            "Сообщение: Не ставьте пробел у символа кавычек.\n",
            "Предложение: ...ь должна идти не только для него одного, « чтобы на всех она отражалась и чтобы все...\n",
            "Предложенные исправления: ['« ', ' «']\n",
            "Ошибка: WHITESPACE_RULE\n",
            "Сообщение: Повтор пробела\n",
            "Предложение: ..., можно сделать вывод, что деревья могут  научить нас доброте и бескорыстию, вере ...\n",
            "Предложенные исправления: [' ']\n"
          ]
        },
        {
          "output_type": "error",
          "ename": "KeyboardInterrupt",
          "evalue": "Interrupted by user",
          "traceback": [
            "\u001b[0;31m---------------------------------------------------------------------------\u001b[0m",
            "\u001b[0;31mKeyboardInterrupt\u001b[0m                         Traceback (most recent call last)",
            "\u001b[0;32m<ipython-input-27-cc02be0d095c>\u001b[0m in \u001b[0;36m<cell line: 29>\u001b[0;34m()\u001b[0m\n\u001b[1;32m     28\u001b[0m \u001b[0;34m\u001b[0m\u001b[0m\n\u001b[1;32m     29\u001b[0m \u001b[0;32mwhile\u001b[0m \u001b[0;32mTrue\u001b[0m\u001b[0;34m:\u001b[0m\u001b[0;34m\u001b[0m\u001b[0;34m\u001b[0m\u001b[0m\n\u001b[0;32m---> 30\u001b[0;31m     \u001b[0mtitle\u001b[0m \u001b[0;34m=\u001b[0m \u001b[0minput\u001b[0m\u001b[0;34m(\u001b[0m\u001b[0;34m'Введите тему текста: '\u001b[0m\u001b[0;34m)\u001b[0m\u001b[0;34m\u001b[0m\u001b[0;34m\u001b[0m\u001b[0m\n\u001b[0m\u001b[1;32m     31\u001b[0m     \u001b[0mpath\u001b[0m \u001b[0;34m=\u001b[0m \u001b[0minput\u001b[0m\u001b[0;34m(\u001b[0m\u001b[0;34m'Введите название файла с текстом: '\u001b[0m\u001b[0;34m)\u001b[0m\u001b[0;34m\u001b[0m\u001b[0;34m\u001b[0m\u001b[0m\n\u001b[1;32m     32\u001b[0m \u001b[0;34m\u001b[0m\u001b[0m\n",
            "\u001b[0;32m/usr/local/lib/python3.10/dist-packages/ipykernel/kernelbase.py\u001b[0m in \u001b[0;36mraw_input\u001b[0;34m(self, prompt)\u001b[0m\n\u001b[1;32m    849\u001b[0m                 \u001b[0;34m\"raw_input was called, but this frontend does not support input requests.\"\u001b[0m\u001b[0;34m\u001b[0m\u001b[0;34m\u001b[0m\u001b[0m\n\u001b[1;32m    850\u001b[0m             )\n\u001b[0;32m--> 851\u001b[0;31m         return self._input_request(str(prompt),\n\u001b[0m\u001b[1;32m    852\u001b[0m             \u001b[0mself\u001b[0m\u001b[0;34m.\u001b[0m\u001b[0m_parent_ident\u001b[0m\u001b[0;34m,\u001b[0m\u001b[0;34m\u001b[0m\u001b[0;34m\u001b[0m\u001b[0m\n\u001b[1;32m    853\u001b[0m             \u001b[0mself\u001b[0m\u001b[0;34m.\u001b[0m\u001b[0m_parent_header\u001b[0m\u001b[0;34m,\u001b[0m\u001b[0;34m\u001b[0m\u001b[0;34m\u001b[0m\u001b[0m\n",
            "\u001b[0;32m/usr/local/lib/python3.10/dist-packages/ipykernel/kernelbase.py\u001b[0m in \u001b[0;36m_input_request\u001b[0;34m(self, prompt, ident, parent, password)\u001b[0m\n\u001b[1;32m    893\u001b[0m             \u001b[0;32mexcept\u001b[0m \u001b[0mKeyboardInterrupt\u001b[0m\u001b[0;34m:\u001b[0m\u001b[0;34m\u001b[0m\u001b[0;34m\u001b[0m\u001b[0m\n\u001b[1;32m    894\u001b[0m                 \u001b[0;31m# re-raise KeyboardInterrupt, to truncate traceback\u001b[0m\u001b[0;34m\u001b[0m\u001b[0;34m\u001b[0m\u001b[0m\n\u001b[0;32m--> 895\u001b[0;31m                 \u001b[0;32mraise\u001b[0m \u001b[0mKeyboardInterrupt\u001b[0m\u001b[0;34m(\u001b[0m\u001b[0;34m\"Interrupted by user\"\u001b[0m\u001b[0;34m)\u001b[0m \u001b[0;32mfrom\u001b[0m \u001b[0;32mNone\u001b[0m\u001b[0;34m\u001b[0m\u001b[0;34m\u001b[0m\u001b[0m\n\u001b[0m\u001b[1;32m    896\u001b[0m             \u001b[0;32mexcept\u001b[0m \u001b[0mException\u001b[0m \u001b[0;32mas\u001b[0m \u001b[0me\u001b[0m\u001b[0;34m:\u001b[0m\u001b[0;34m\u001b[0m\u001b[0;34m\u001b[0m\u001b[0m\n\u001b[1;32m    897\u001b[0m                 \u001b[0mself\u001b[0m\u001b[0;34m.\u001b[0m\u001b[0mlog\u001b[0m\u001b[0;34m.\u001b[0m\u001b[0mwarning\u001b[0m\u001b[0;34m(\u001b[0m\u001b[0;34m\"Invalid Message:\"\u001b[0m\u001b[0;34m,\u001b[0m \u001b[0mexc_info\u001b[0m\u001b[0;34m=\u001b[0m\u001b[0;32mTrue\u001b[0m\u001b[0;34m)\u001b[0m\u001b[0;34m\u001b[0m\u001b[0;34m\u001b[0m\u001b[0m\n",
            "\u001b[0;31mKeyboardInterrupt\u001b[0m: Interrupted by user"
          ]
        }
      ],
      "source": [
        "\n",
        "from transformers import pipeline\n",
        "import language_tool_python\n",
        "\n",
        "classifier = pipeline(\"sentiment-analysis\", model='/content/drive/MyDrive/model', max_length=512, truncation=True)\n",
        "\n",
        "def compare(title, text):\n",
        "    full_text = '\\n'.join([title, text])\n",
        "    result = classifier(full_text)\n",
        "    if result[0]['label'] == 'LABEL_1':\n",
        "        return 'СОВПАДЕНИЕ ТЕКСТА С ТЕМОЙ'\n",
        "    elif result[0]['label'] == 'LABEL_0':\n",
        "        return 'НЕТ СОВПАДЕНИЯ ТЕКСТА С ТЕМОЙ'\n",
        "    else:\n",
        "        return 'Ошибка, попробуйте ещё раз'\n",
        "\n",
        "def check_text_from_file(file_path, lang='ru'):\n",
        "    with open(file_path, 'r', encoding='utf-8') as file:\n",
        "        text = file.read()\n",
        "\n",
        "    tool = language_tool_python.LanguageTool(lang)\n",
        "    matches = tool.check(text)\n",
        "\n",
        "    for match in matches:\n",
        "        print(f'Ошибка: {match.ruleId}')\n",
        "        print(f'Сообщение: {match.message}')\n",
        "        print(f'Предложение: {match.context}')\n",
        "        print(f'Предложенные исправления: {match.replacements}')\n",
        "\n",
        "while True:\n",
        "    title = input('Введите тему текста: ')\n",
        "    path = input('Введите название файла с текстом: ')\n",
        "\n",
        "    try:\n",
        "        with open(path, encoding='utf-8') as file:\n",
        "            text = file.read()\n",
        "        print(compare(title, text))\n",
        "        print('\\n-------------------------------------\\n')\n",
        "        check_text_from_file(path)\n",
        "    except FileNotFoundError:\n",
        "        print('Файл не найден. Укажите правильный путь к файлу.')\n",
        "    except Exception as e:\n",
        "        print(f'Произошла ошибка: {e}')\n"
      ]
    },
    {
      "cell_type": "code",
      "source": [
        "import subprocess\n",
        "import sys\n",
        "from pathlib import Path\n",
        "import torch\n",
        "from neuro_comma.predict import RepunctPredictor\n",
        "from neuro_comma.model import CorrectionModel\n",
        "\n",
        "installation_script_path = \"/content/drive/MyDrive/neuro-comma-master/scripts/installation.sh\"\n",
        "subprocess.run([\"bash\", installation_script_path])\n",
        "\n",
        "sys.path.insert(0, \"/content/drive/MyDrive/neuro-comma-master/src\")\n",
        "sys.path.insert(0, \"/content/drive/MyDrive/neuro-comma-master/models\")\n",
        "\n",
        "model = CorrectionModel(\n",
        "    pretrained_model=\"DeepPavlov/rubert-base-cased-sentence\",\n",
        "    targets={\n",
        "        \"O\": 0,\n",
        "        \"COMMA\": 1,\n",
        "        \"PERIOD\": 2\n",
        "    }\n",
        ")\n",
        "\n",
        "state_dict = torch.load('/content/drive/MyDrive/neuro-comma-master/models/repunct-model-new/weights/weights_ep6_9912.pt')\n",
        "model_dict = model.state_dict()\n",
        "\n",
        "state_dict = {k: v for k, v in state_dict.items() if k in model_dict}\n",
        "\n",
        "model.load_state_dict(state_dict, strict=False)\n",
        "\n",
        "quantized_model = model.quantize()\n",
        "\n",
        "quantized_model.save('/content/drive/MyDrive/neuro-comma-master/models/repunct-model-new/weights/quantized_weights_ep6_9912.pt')\n",
        "\n",
        "predictor = RepunctPredictor(\n",
        "    model_name='repunct-model-new',\n",
        "    models_root=Path('/content/drive/MyDrive/neuro-comma-master/models'),\n",
        "    model_weights='quantized_weights_ep6_9912.pt',\n",
        "    quantization=True\n",
        ")\n",
        "\n",
        "text = (\"Автор описывает случай из жизни когда он походив по лесу увидел необычный пень на котором «ютились хиленькие всходы елочек» явно обреченные на смерть\")\n",
        "\n",
        "print(predictor(text))\n"
      ],
      "metadata": {
        "colab": {
          "base_uri": "https://localhost:8080/"
        },
        "id": "mjS9hca3hm0k",
        "outputId": "99e39334-6eb7-4402-af54-4215075d2bf0"
      },
      "execution_count": null,
      "outputs": [
        {
          "output_type": "stream",
          "name": "stdout",
          "text": [
            "Автор описывает случай из жизни, когда он, походив по лесу, увидел необычный пень, на котором «ютились хиленькие всходы елочек», явно обреченные на смерть.\n"
          ]
        }
      ]
    },
    {
      "cell_type": "code",
      "source": [
        "from transformers import pipeline\n",
        "import language_tool_python\n",
        "import subprocess\n",
        "import sys\n",
        "from pathlib import Path\n",
        "import torch\n",
        "from neuro_comma.predict import RepunctPredictor\n",
        "from neuro_comma.model import CorrectionModel\n",
        "\n",
        "# Sentiment Analysis Setup\n",
        "classifier = pipeline(\"sentiment-analysis\", model='/content/drive/MyDrive/model', max_length=512, truncation=True)\n",
        "\n",
        "def compare(title, text):\n",
        "    full_text = '\\n'.join([title, text])\n",
        "    result = classifier(full_text)\n",
        "    if result[0]['label'] == 'LABEL_1':\n",
        "        return 'СОВПАДЕНИЕ ТЕКСТА С ТЕМОЙ'\n",
        "    elif result[0]['label'] == 'LABEL_0':\n",
        "        return 'НЕТ СОВПАДЕНИЯ ТЕКСТА С ТЕМОЙ'\n",
        "    else:\n",
        "        return 'Ошибка, попробуйте ещё раз'\n",
        "\n",
        "def check_text_from_file(file_path, lang='ru'):\n",
        "    with open(file_path, 'r', encoding='utf-8') as file:\n",
        "        text = file.read()\n",
        "\n",
        "    tool = language_tool_python.LanguageTool(lang)\n",
        "    matches = tool.check(text)\n",
        "\n",
        "    for match in matches:\n",
        "        print(f'Ошибка: {match.ruleId}')\n",
        "        print(f'Сообщение: {match.message}')\n",
        "        print(f'Предложение: {match.context}')\n",
        "        print(f'Предложенные исправления: {match.replacements}')\n",
        "\n",
        "# Neuro-comma Model Setup\n",
        "installation_script_path = \"/content/drive/MyDrive/neuro-comma-master/scripts/installation.sh\"\n",
        "subprocess.run([\"bash\", installation_script_path])\n",
        "\n",
        "sys.path.insert(0, \"/content/drive/MyDrive/neuro-comma-master/src\")\n",
        "sys.path.insert(0, \"/content/drive/MyDrive/neuro-comma-master/models\")\n",
        "\n",
        "model = CorrectionModel(\n",
        "    pretrained_model=\"DeepPavlov/rubert-base-cased-sentence\",\n",
        "    targets={\n",
        "        \"O\": 0,\n",
        "        \"COMMA\": 1,\n",
        "        \"PERIOD\": 2\n",
        "    }\n",
        ")\n",
        "\n",
        "state_dict = torch.load('/content/drive/MyDrive/neuro-comma-master/models/repunct-model-new/weights/weights_ep6_9912.pt')\n",
        "model_dict = model.state_dict()\n",
        "\n",
        "state_dict = {k: v for k, v in state_dict.items() if k in model_dict}\n",
        "\n",
        "model.load_state_dict(state_dict, strict=False)\n",
        "\n",
        "quantized_model = model.quantize()\n",
        "quantized_model.save('/content/drive/MyDrive/neuro-comma-master/models/repunct-model-new/weights/quantized_weights_ep6_9912.pt')\n",
        "\n",
        "predictor = RepunctPredictor(\n",
        "    model_name='repunct-model-new',\n",
        "    models_root=Path('/content/drive/MyDrive/neuro-comma-master/models'),\n",
        "    model_weights='quantized_weights_ep6_9912.pt',\n",
        "    quantization=True\n",
        ")\n",
        "\n",
        "# User Input for Text\n",
        "title = input('Введите тему текста: ')\n",
        "text_path = input('Введите путь к файлу с текстом: ')\n",
        "\n",
        "try:\n",
        "    with open(text_path, encoding='utf-8') as file:\n",
        "        text = file.read()\n",
        "    print(compare(title, text))\n",
        "    print('\\n-------------------------------------\\n')\n",
        "    check_text_from_file(text_path)\n",
        "    print('\\n-------------------------------------\\n')\n",
        "    print(predictor(text))\n",
        "except FileNotFoundError:\n",
        "    print('Файл не найден. Укажите правильный путь к файлу.')\n",
        "except Exception as e:\n",
        "    print(f'Произошла ошибка: {e}')\n"
      ],
      "metadata": {
        "colab": {
          "base_uri": "https://localhost:8080/"
        },
        "id": "w0fmIjGflPCI",
        "outputId": "e0bd6ae0-9b9b-4784-d9cf-9c33754cac76"
      },
      "execution_count": null,
      "outputs": [
        {
          "output_type": "stream",
          "name": "stdout",
          "text": [
            "Введите тему текста: нужно бороться за жизнь \n",
            "Введите путь к файлу с текстом: /content/за_жизнь_необходимо_бороться.txt\n",
            "СОВПАДЕНИЕ ТЕКСТА С ТЕМОЙ\n",
            "\n",
            "-------------------------------------\n",
            "\n",
            "Ошибка: WHITESPACE_RULE\n",
            "Сообщение: Повтор пробела\n",
            "Предложение: ...елочке, и ему становится гораздо легче.    Автор считает, что тот, кто не борется з...\n",
            "Предложенные исправления: [' ']\n",
            "Ошибка: WHITESPACE_RULE\n",
            "Сообщение: Повтор пробела\n",
            "Предложение: ...ливается к условиям среды, тот умирает.    Я разделяю позицию В. П. Астафьева и счи...\n",
            "Предложенные исправления: [' ']\n",
            "Ошибка: MORFOLOGIK_RULE_RU_RU\n",
            "Сообщение: Возможно найдена орфографическая ошибка.\n",
            "Предложение: ...и, трудностями, болезнями.     Вспомним сказку-быль А. Платонова «Неизвестный цветок». Это ...\n",
            "Предложенные исправления: []\n",
            "Ошибка: WHITESPACE_RULE\n",
            "Сообщение: Повтор пробела\n",
            "Предложение: ...ругих безмолвным голосом радости жизни.    Но если цветы, растения так борются за ж...\n",
            "Предложенные исправления: [' ']\n",
            "Ошибка: SENTENCE_WHITESPACE\n",
            "Сообщение: Добавьте пробел между предложениями.\n",
            "Предложение: ... ноге, голод, холод и страх одиночества.Но каково же было разочарование героя, ког...\n",
            "Предложенные исправления: [' Но']\n",
            "Ошибка: SENTENCE_WHITESPACE\n",
            "Сообщение: Добавьте пробел между предложениями.\n",
            "Предложение: ...олодных волков и ползет, ползет, ползет…И он спасется! Он победит!    Делая вывод...\n",
            "Предложенные исправления: [' И']\n",
            "Ошибка: WHITESPACE_RULE\n",
            "Сообщение: Повтор пробела\n",
            "Предложение: ...лзет, ползет…И он спасется! Он победит!    Делая вывод, хотелось бы отметить, что б...\n",
            "Предложенные исправления: [' ']\n",
            "\n",
            "-------------------------------------\n",
            "\n",
            "За жизнь необходимо бороться! Вот проблема, над которой рассуждает В.П. Астафьев. Автор описывает случай из жизни, когда он, походив по лесу, увидел необычный пень, на котором «ютились хиленькие всходы елочек», явно обреченные на смерть. С удивлением писатель подмечает, что среди них была маленькая елочка, очень отличавшаяся от собратьев своим бодрым и даже вызывающим видом. Она явно не собиралась засыхать! Елочка боролась за жизнь! В.П.Астафьев говорит, что когда ему «становится больно от воспоминаний о тех, кто прошел войну», то он просто думает об этой маленькой елочке, и ему становится гораздо легче. Автор считает, что тот, кто не борется за жизнь, не приспосабливается к условиям среды, тот умирает. Я разделяю позицию В. П. Астафьева и считаю, что за свою жизнь всегда нужно бороться, не отступать перед врагами, трудностями, болезнями. Вспомним сказку-быль А. Платонова «Неизвестный цветок». Это произведение о цветке, который вырос среди камней и глины. Он много трудился, преодолел массу препятствий, чтобы засветиться живым огоньком. И все потому, что цветок очень хотел жить! В своей сказке Андрей Платонов утверждает, что надо много трудиться, чтобы жить и не умереть, чтобы светить ярким огнем и звать к себе других безмолвным голосом радости жизни. Но если цветы, растения так борются за жизнь, то люди просто обязаны быть примером в сражении за каждую прожитую минуту. Вспомним героя рассказа Д. Лондона «Любовь к жизни», странствующего по Аляске в поисках золота. Парень вывихнул ногу, и напарник Билл бросает его: ведь слабому не выстоять в битве за жизнь. Но персонаж Д.Лондона все же выжил! Вначале он верил, что Билл ждет его у тайника с золотом. И эта надежда помогала ему идти, побеждая страшную боль в ноге, голод, холод и страх одиночества.Но каково же было разочарование героя, когда он увидел, что тайник пуст! Билл предал его вторично, забрав все припасы и обрекая его на верную смерть. И тогда человек решил, что дойдет любой ценой, что выживет, несмотря на измену Билла. Герой собирает в кулак всю волю и мужество и борется за свою жизнь. Он голыми руками ловит куропаток, ест корни растений, защищается от голодных волков и ползет, ползет, ползет…И он спасется! Он победит! Делая вывод, хотелось бы отметить, что борьба за жизнь – это важная ступень в развитии каждого человека. Не случайно А. Франс сказал: «Жить – значит действовать!»\n"
          ]
        }
      ]
    }
  ],
  "metadata": {
    "kernelspec": {
      "display_name": "Python 3",
      "name": "python3"
    },
    "language_info": {
      "codemirror_mode": {
        "name": "ipython",
        "version": 3
      },
      "file_extension": ".py",
      "mimetype": "text/x-python",
      "name": "python",
      "nbconvert_exporter": "python",
      "pygments_lexer": "ipython3",
      "version": "3.10.11"
    },
    "colab": {
      "provenance": [],
      "gpuType": "T4"
    },
    "accelerator": "GPU"
  },
  "nbformat": 4,
  "nbformat_minor": 0
}